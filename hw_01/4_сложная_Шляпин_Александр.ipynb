{
 "cells": [
  {
   "cell_type": "markdown",
   "metadata": {},
   "source": [
    "# Machine Learning\n",
    "\n",
    "Сделал Шляпин Александр (БЭК146)"
   ]
  },
  {
   "cell_type": "markdown",
   "metadata": {},
   "source": [
    "## Домашнее задание №1\n",
    "Задание основано на материалах курса [Data analysis (Software Engineering)](http://wiki.cs.hse.ru/Data_analysis_(Software_Engineering%29) (ФКН НИУ ВШЭ).\n",
    "\n",
    "Вам необходимо анализировать набор данных [adult.data](http://archive.ics.uci.edu/ml/datasets/Adult) (источник: UCI Machine Learning Repository) с помощью Python, pandas, numpy, scipy.\n",
    "\n",
    "Чтобы выполнить работу, скачайте настоящий ipynb-файл, откройте его в *Jupyter Notebook*, впишите решения в оставленные для этого ячейки (при необходимости можно добавлять новые ячейки), приводя полный работающий код, а также все необходимые пояснения и ответы (для этого нужно использовать markdown-ячейки). Вы можете вставлять формулы с помощью TeX-разметки в markdown-ячейки. После выполнения работы необходимо вытащить ipynb-файл из Jupyter (например, с помощью *File → Download as… → IPython Notebook*).\n",
    "\n",
    "**Подсказка.** Файл [adult.data](http://archive.ics.uci.edu/ml/machine-learning-databases/adult/adult.data) является CSV-файлом, но в нём отсутствуют имена переменных — они (вместе с описаниями) приводятся в отдельном файле [adult.names](http://archive.ics.uci.edu/ml/machine-learning-databases/adult/adult.names). При загрузке датафрейма с помощью `pd.read_csv` используйте параметры `header=None` (чтобы первая строка не воспринималась как строка с именами переменных) и `names=[\"age\", \"workclass\", \"fnlwgt\", \"education\", \"education-num\", \"marital-status\", \"occupation\", \"relationship\", \"race\", \"sex\", \"capital-gain\", \"capital-loss\", \"hours-per-week\", \"native-country\", \"50K\"]`. Чтобы убрать лишние пробелы после запятых, которые есть в файле, следует добавить опцию `skipinitialspace=True`."
   ]
  },
  {
   "cell_type": "markdown",
   "metadata": {},
   "source": [
    "### Вопрос 1\n",
    "Сколько мужчин и женщин в выборке?"
   ]
  },
  {
   "cell_type": "code",
   "execution_count": 2,
   "metadata": {
    "collapsed": true
   },
   "outputs": [],
   "source": [
    "import pandas as pd\n",
    "import numpy as np\n",
    "import matplotlib.pyplot as plt\n",
    "%matplotlib inline"
   ]
  },
  {
   "cell_type": "code",
   "execution_count": 53,
   "metadata": {
    "collapsed": false
   },
   "outputs": [
    {
     "ename": "ImportError",
     "evalue": "No module named 'seaborn'",
     "output_type": "error",
     "traceback": [
      "\u001b[1;31m---------------------------------------------------------------------------\u001b[0m",
      "\u001b[1;31mImportError\u001b[0m                               Traceback (most recent call last)",
      "\u001b[1;32m<ipython-input-53-ed9806ce3570>\u001b[0m in \u001b[0;36m<module>\u001b[1;34m()\u001b[0m\n\u001b[1;32m----> 1\u001b[1;33m \u001b[1;32mimport\u001b[0m \u001b[0mseaborn\u001b[0m \u001b[1;32mas\u001b[0m \u001b[0msns\u001b[0m\u001b[1;33m\u001b[0m\u001b[0m\n\u001b[0m",
      "\u001b[1;31mImportError\u001b[0m: No module named 'seaborn'"
     ]
    }
   ],
   "source": [
    "import seaborn as sns"
   ]
  },
  {
   "cell_type": "code",
   "execution_count": 3,
   "metadata": {
    "collapsed": false
   },
   "outputs": [
    {
     "data": {
      "text/html": [
       "<div>\n",
       "<table border=\"1\" class=\"dataframe\">\n",
       "  <thead>\n",
       "    <tr style=\"text-align: right;\">\n",
       "      <th></th>\n",
       "      <th>age</th>\n",
       "      <th>workclass</th>\n",
       "      <th>fnlwgt</th>\n",
       "      <th>education</th>\n",
       "      <th>education-num</th>\n",
       "      <th>marital-status</th>\n",
       "      <th>occupation</th>\n",
       "      <th>relationship</th>\n",
       "      <th>race</th>\n",
       "      <th>sex</th>\n",
       "      <th>capital-gain</th>\n",
       "      <th>capital-loss</th>\n",
       "      <th>hours-per-week</th>\n",
       "      <th>native-country</th>\n",
       "      <th>50K</th>\n",
       "    </tr>\n",
       "  </thead>\n",
       "  <tbody>\n",
       "    <tr>\n",
       "      <th>0</th>\n",
       "      <td>39</td>\n",
       "      <td>State-gov</td>\n",
       "      <td>77516</td>\n",
       "      <td>Bachelors</td>\n",
       "      <td>13</td>\n",
       "      <td>Never-married</td>\n",
       "      <td>Adm-clerical</td>\n",
       "      <td>Not-in-family</td>\n",
       "      <td>White</td>\n",
       "      <td>Male</td>\n",
       "      <td>2174</td>\n",
       "      <td>0</td>\n",
       "      <td>40</td>\n",
       "      <td>United-States</td>\n",
       "      <td>&lt;=50K</td>\n",
       "    </tr>\n",
       "    <tr>\n",
       "      <th>1</th>\n",
       "      <td>50</td>\n",
       "      <td>Self-emp-not-inc</td>\n",
       "      <td>83311</td>\n",
       "      <td>Bachelors</td>\n",
       "      <td>13</td>\n",
       "      <td>Married-civ-spouse</td>\n",
       "      <td>Exec-managerial</td>\n",
       "      <td>Husband</td>\n",
       "      <td>White</td>\n",
       "      <td>Male</td>\n",
       "      <td>0</td>\n",
       "      <td>0</td>\n",
       "      <td>13</td>\n",
       "      <td>United-States</td>\n",
       "      <td>&lt;=50K</td>\n",
       "    </tr>\n",
       "    <tr>\n",
       "      <th>2</th>\n",
       "      <td>38</td>\n",
       "      <td>Private</td>\n",
       "      <td>215646</td>\n",
       "      <td>HS-grad</td>\n",
       "      <td>9</td>\n",
       "      <td>Divorced</td>\n",
       "      <td>Handlers-cleaners</td>\n",
       "      <td>Not-in-family</td>\n",
       "      <td>White</td>\n",
       "      <td>Male</td>\n",
       "      <td>0</td>\n",
       "      <td>0</td>\n",
       "      <td>40</td>\n",
       "      <td>United-States</td>\n",
       "      <td>&lt;=50K</td>\n",
       "    </tr>\n",
       "    <tr>\n",
       "      <th>3</th>\n",
       "      <td>53</td>\n",
       "      <td>Private</td>\n",
       "      <td>234721</td>\n",
       "      <td>11th</td>\n",
       "      <td>7</td>\n",
       "      <td>Married-civ-spouse</td>\n",
       "      <td>Handlers-cleaners</td>\n",
       "      <td>Husband</td>\n",
       "      <td>Black</td>\n",
       "      <td>Male</td>\n",
       "      <td>0</td>\n",
       "      <td>0</td>\n",
       "      <td>40</td>\n",
       "      <td>United-States</td>\n",
       "      <td>&lt;=50K</td>\n",
       "    </tr>\n",
       "    <tr>\n",
       "      <th>4</th>\n",
       "      <td>28</td>\n",
       "      <td>Private</td>\n",
       "      <td>338409</td>\n",
       "      <td>Bachelors</td>\n",
       "      <td>13</td>\n",
       "      <td>Married-civ-spouse</td>\n",
       "      <td>Prof-specialty</td>\n",
       "      <td>Wife</td>\n",
       "      <td>Black</td>\n",
       "      <td>Female</td>\n",
       "      <td>0</td>\n",
       "      <td>0</td>\n",
       "      <td>40</td>\n",
       "      <td>Cuba</td>\n",
       "      <td>&lt;=50K</td>\n",
       "    </tr>\n",
       "  </tbody>\n",
       "</table>\n",
       "</div>"
      ],
      "text/plain": [
       "   age         workclass  fnlwgt  education  education-num  \\\n",
       "0   39         State-gov   77516  Bachelors             13   \n",
       "1   50  Self-emp-not-inc   83311  Bachelors             13   \n",
       "2   38           Private  215646    HS-grad              9   \n",
       "3   53           Private  234721       11th              7   \n",
       "4   28           Private  338409  Bachelors             13   \n",
       "\n",
       "       marital-status         occupation   relationship   race     sex  \\\n",
       "0       Never-married       Adm-clerical  Not-in-family  White    Male   \n",
       "1  Married-civ-spouse    Exec-managerial        Husband  White    Male   \n",
       "2            Divorced  Handlers-cleaners  Not-in-family  White    Male   \n",
       "3  Married-civ-spouse  Handlers-cleaners        Husband  Black    Male   \n",
       "4  Married-civ-spouse     Prof-specialty           Wife  Black  Female   \n",
       "\n",
       "   capital-gain  capital-loss  hours-per-week native-country    50K  \n",
       "0          2174             0              40  United-States  <=50K  \n",
       "1             0             0              13  United-States  <=50K  \n",
       "2             0             0              40  United-States  <=50K  \n",
       "3             0             0              40  United-States  <=50K  \n",
       "4             0             0              40           Cuba  <=50K  "
      ]
     },
     "execution_count": 3,
     "metadata": {},
     "output_type": "execute_result"
    }
   ],
   "source": [
    "df = pd.read_csv(\"adult.data\", header=None, names=[\"age\", \"workclass\", \"fnlwgt\", \"education\", \"education-num\", \"marital-status\", \"occupation\", \"relationship\", \"race\", \"sex\", \"capital-gain\", \"capital-loss\", \"hours-per-week\", \"native-country\", \"50K\"], skipinitialspace=True)\n",
    "df.head()"
   ]
  },
  {
   "cell_type": "code",
   "execution_count": 11,
   "metadata": {
    "collapsed": false
   },
   "outputs": [
    {
     "data": {
      "text/plain": [
       "Male      21790\n",
       "Female    10771\n",
       "Name: sex, dtype: int64"
      ]
     },
     "execution_count": 11,
     "metadata": {},
     "output_type": "execute_result"
    }
   ],
   "source": [
    "df['sex'].value_counts()"
   ]
  },
  {
   "cell_type": "markdown",
   "metadata": {},
   "source": [
    "Ответ: 21790 мужчин, 10771 женщин"
   ]
  },
  {
   "cell_type": "markdown",
   "metadata": {},
   "source": [
    "### Вопрос 2\n",
    "Каков средний возраст мужчин?\n"
   ]
  },
  {
   "cell_type": "code",
   "execution_count": 14,
   "metadata": {
    "collapsed": false
   },
   "outputs": [
    {
     "data": {
      "text/plain": [
       "sex\n",
       "Female    36.858230\n",
       "Male      39.433547\n",
       "Name: age, dtype: float64"
      ]
     },
     "execution_count": 14,
     "metadata": {},
     "output_type": "execute_result"
    }
   ],
   "source": [
    "df.groupby('sex')['age'].mean()"
   ]
  },
  {
   "cell_type": "markdown",
   "metadata": {},
   "source": [
    "Средний возраст мужчин 37,43 лет"
   ]
  },
  {
   "cell_type": "markdown",
   "metadata": {},
   "source": [
    "### Вопрос 3\n",
    "Какова доля граждан США?"
   ]
  },
  {
   "cell_type": "code",
   "execution_count": 15,
   "metadata": {
    "collapsed": false
   },
   "outputs": [
    {
     "data": {
      "text/plain": [
       "United-States                 29170\n",
       "Mexico                          643\n",
       "?                               583\n",
       "Philippines                     198\n",
       "Germany                         137\n",
       "Canada                          121\n",
       "Puerto-Rico                     114\n",
       "El-Salvador                     106\n",
       "India                           100\n",
       "Cuba                             95\n",
       "England                          90\n",
       "Jamaica                          81\n",
       "South                            80\n",
       "China                            75\n",
       "Italy                            73\n",
       "Dominican-Republic               70\n",
       "Vietnam                          67\n",
       "Guatemala                        64\n",
       "Japan                            62\n",
       "Poland                           60\n",
       "Columbia                         59\n",
       "Taiwan                           51\n",
       "Haiti                            44\n",
       "Iran                             43\n",
       "Portugal                         37\n",
       "Nicaragua                        34\n",
       "Peru                             31\n",
       "France                           29\n",
       "Greece                           29\n",
       "Ecuador                          28\n",
       "Ireland                          24\n",
       "Hong                             20\n",
       "Cambodia                         19\n",
       "Trinadad&Tobago                  19\n",
       "Thailand                         18\n",
       "Laos                             18\n",
       "Yugoslavia                       16\n",
       "Outlying-US(Guam-USVI-etc)       14\n",
       "Honduras                         13\n",
       "Hungary                          13\n",
       "Scotland                         12\n",
       "Holand-Netherlands                1\n",
       "Name: native-country, dtype: int64"
      ]
     },
     "execution_count": 15,
     "metadata": {},
     "output_type": "execute_result"
    }
   ],
   "source": [
    "df['native-country'].value_counts()"
   ]
  },
  {
   "cell_type": "markdown",
   "metadata": {},
   "source": [
    "Числов граждан США: 29170"
   ]
  },
  {
   "cell_type": "code",
   "execution_count": 20,
   "metadata": {
    "collapsed": false
   },
   "outputs": [
    {
     "data": {
      "text/plain": [
       "(32561, 15)"
      ]
     },
     "execution_count": 20,
     "metadata": {},
     "output_type": "execute_result"
    }
   ],
   "source": [
    "df.shape"
   ]
  },
  {
   "cell_type": "markdown",
   "metadata": {},
   "source": [
    "Первое числов второй команды (df.shape) - число людей в выборке. Т.е. у нас 32561 человек"
   ]
  },
  {
   "cell_type": "code",
   "execution_count": 21,
   "metadata": {
    "collapsed": false
   },
   "outputs": [
    {
     "data": {
      "text/plain": [
       "0.895857006848684"
      ]
     },
     "execution_count": 21,
     "metadata": {},
     "output_type": "execute_result"
    }
   ],
   "source": [
    "29170/32561"
   ]
  },
  {
   "cell_type": "markdown",
   "metadata": {},
   "source": [
    "Делим число граждан США на общей число людей. Получаем ответ: 89,59%"
   ]
  },
  {
   "cell_type": "markdown",
   "metadata": {},
   "source": [
    "### Вопрос 4\n",
    "Нарисовать распределение уровня образования в виде столбчатой диаграммы (bar plot)."
   ]
  },
  {
   "cell_type": "code",
   "execution_count": 34,
   "metadata": {
    "collapsed": false
   },
   "outputs": [
    {
     "data": {
      "text/plain": [
       "education     education   \n",
       "10th          10th              933\n",
       "11th          11th             1175\n",
       "12th          12th              433\n",
       "1st-4th       1st-4th           168\n",
       "5th-6th       5th-6th           333\n",
       "7th-8th       7th-8th           646\n",
       "9th           9th               514\n",
       "Assoc-acdm    Assoc-acdm       1067\n",
       "Assoc-voc     Assoc-voc        1382\n",
       "Bachelors     Bachelors        5355\n",
       "Doctorate     Doctorate         413\n",
       "HS-grad       HS-grad         10501\n",
       "Masters       Masters          1723\n",
       "Preschool     Preschool          51\n",
       "Prof-school   Prof-school       576\n",
       "Some-college  Some-college     7291\n",
       "Name: education, dtype: int64"
      ]
     },
     "execution_count": 34,
     "metadata": {},
     "output_type": "execute_result"
    }
   ],
   "source": [
    "\"\"\"df.describe()\n",
    "a = [\"Bachelors\"]\n",
    "b = [0]\n",
    "for i in range(1, 32561):\n",
    "    for j in range(len(a)):\n",
    "        y = df.education[i]\n",
    "        if y == a[j]:\n",
    "            b[j] += 1\n",
    "        else:\n",
    "            a.append(y)\n",
    "            b.append(0)\n",
    "print(a)\n",
    "print(b)\"\"\"\n",
    "df.groupby('education').education.value_counts()\n",
    "sns.barplot(x=\"sex\", y=\"survived\", hue=\"class\", data=titanic)"
   ]
  },
  {
   "cell_type": "code",
   "execution_count": 54,
   "metadata": {
    "collapsed": false
   },
   "outputs": [
    {
     "data": {
      "image/png": "[encoded data removed]",
      "text/plain": [
       "<matplotlib.figure.Figure at 0x23005de7b00>"
      ]
     },
     "metadata": {},
     "output_type": "display_data"
    }
   ],
   "source": [
    "objects = (\"10th\", \"11th\", \"12th\", \"1st-4th\", \"5th-6th\", \"7th-8th\", \"9th\", \"Assoc-acdm\", \"Assoc-voc\", \"Bachelors\", \"Doctorate\", \"HS-grad\", \"Masters\", \"Preschool\", \"Prof-school\", 'Some-college')\n",
    "y_pos = np.arange(len(objects))\n",
    "performance = [933, 1175, 433, 168, 333, 646, 514, 1067, 1382, 5355, 413, 10501, 1723, 51, 576, 7291]\n",
    " \n",
    "plt.bar(y_pos, performance, align='center', alpha=0.5)\n",
    "plt.xticks(y_pos, objects)\n",
    "\n",
    " \n",
    "plt.show()"
   ]
  },
  {
   "cell_type": "markdown",
   "metadata": {},
   "source": [
    "### Вопрос 5\n",
    "Найти среднее и стандартное отклонение переменной \"final weight\" (fnlwgt) для разведённых людей?"
   ]
  },
  {
   "cell_type": "code",
   "execution_count": 26,
   "metadata": {
    "collapsed": false
   },
   "outputs": [
    {
     "data": {
      "text/plain": [
       "marital-status              \n",
       "Divorced               count    4.443000e+03\n",
       "                       mean     1.858028e+05\n",
       "                       std      1.056468e+05\n",
       "                       min      1.941000e+04\n",
       "                       25%      1.155825e+05\n",
       "                       50%      1.753700e+05\n",
       "                       75%      2.310475e+05\n",
       "                       max      1.484705e+06\n",
       "Married-AF-spouse      count    2.300000e+01\n",
       "                       mean     1.881656e+05\n",
       "                       std      1.398688e+05\n",
       "                       min      2.689200e+04\n",
       "                       25%      8.679750e+04\n",
       "                       50%      1.696310e+05\n",
       "                       75%      2.385695e+05\n",
       "                       max      5.440910e+05\n",
       "Married-civ-spouse     count    1.497600e+04\n",
       "                       mean     1.867632e+05\n",
       "                       std      1.030975e+05\n",
       "                       min      1.376900e+04\n",
       "                       25%      1.162070e+05\n",
       "                       50%      1.759650e+05\n",
       "                       75%      2.329925e+05\n",
       "                       max      1.226583e+06\n",
       "Married-spouse-absent  count    4.180000e+02\n",
       "                       mean     1.931418e+05\n",
       "                       std      1.149376e+05\n",
       "                       min      2.005700e+04\n",
       "                       25%      1.270802e+05\n",
       "                       50%      1.806560e+05\n",
       "                       75%      2.350500e+05\n",
       "                       max      1.268339e+06\n",
       "Never-married          count    1.068300e+04\n",
       "                       mean     1.953833e+05\n",
       "                       std      1.077654e+05\n",
       "                       min      1.228500e+04\n",
       "                       25%      1.210300e+05\n",
       "                       50%      1.841200e+05\n",
       "                       75%      2.466235e+05\n",
       "                       max      1.085515e+06\n",
       "Separated              count    1.025000e+03\n",
       "                       mean     2.064443e+05\n",
       "                       std      1.176013e+05\n",
       "                       min      2.043800e+04\n",
       "                       25%      1.291500e+05\n",
       "                       50%      1.892510e+05\n",
       "                       75%      2.565290e+05\n",
       "                       max      1.455435e+06\n",
       "Widowed                count    9.930000e+02\n",
       "                       mean     1.741590e+05\n",
       "                       std      9.400538e+04\n",
       "                       min      1.991400e+04\n",
       "                       25%      1.109980e+05\n",
       "                       50%      1.645180e+05\n",
       "                       75%      2.175680e+05\n",
       "                       max      7.958300e+05\n",
       "Name: fnlwgt, dtype: float64"
      ]
     },
     "execution_count": 26,
     "metadata": {},
     "output_type": "execute_result"
    }
   ],
   "source": [
    "df.groupby('marital-status')['fnlwgt'].describe()"
   ]
  },
  {
   "cell_type": "markdown",
   "metadata": {},
   "source": [
    "Ответ: среднее: 185802. Стандартное отклонение: 105646"
   ]
  },
  {
   "cell_type": "markdown",
   "metadata": {},
   "source": [
    "### Вопрос 6\n",
    "Правда ли, что люди, зарабатывающие более 50 тыс. в основном имеют высшее образование?"
   ]
  },
  {
   "cell_type": "code",
   "execution_count": 18,
   "metadata": {
    "collapsed": false
   },
   "outputs": [
    {
     "data": {
      "text/plain": [
       "education           \n",
       "10th          count       933\n",
       "              unique        2\n",
       "              top       <=50K\n",
       "              freq        871\n",
       "11th          count      1175\n",
       "              unique        2\n",
       "              top       <=50K\n",
       "              freq       1115\n",
       "12th          count       433\n",
       "              unique        2\n",
       "              top       <=50K\n",
       "              freq        400\n",
       "1st-4th       count       168\n",
       "              unique        2\n",
       "              top       <=50K\n",
       "              freq        162\n",
       "5th-6th       count       333\n",
       "              unique        2\n",
       "              top       <=50K\n",
       "              freq        317\n",
       "7th-8th       count       646\n",
       "              unique        2\n",
       "              top       <=50K\n",
       "              freq        606\n",
       "9th           count       514\n",
       "              unique        2\n",
       "              top       <=50K\n",
       "              freq        487\n",
       "Assoc-acdm    count      1067\n",
       "              unique        2\n",
       "                        ...  \n",
       "Assoc-voc     top       <=50K\n",
       "              freq       1021\n",
       "Bachelors     count      5355\n",
       "              unique        2\n",
       "              top       <=50K\n",
       "              freq       3134\n",
       "Doctorate     count       413\n",
       "              unique        2\n",
       "              top        >50K\n",
       "              freq        306\n",
       "HS-grad       count     10501\n",
       "              unique        2\n",
       "              top       <=50K\n",
       "              freq       8826\n",
       "Masters       count      1723\n",
       "              unique        2\n",
       "              top        >50K\n",
       "              freq        959\n",
       "Preschool     count        51\n",
       "              unique        1\n",
       "              top       <=50K\n",
       "              freq         51\n",
       "Prof-school   count       576\n",
       "              unique        2\n",
       "              top        >50K\n",
       "              freq        423\n",
       "Some-college  count      7291\n",
       "              unique        2\n",
       "              top       <=50K\n",
       "              freq       5904\n",
       "Name: 50K, dtype: object"
      ]
     },
     "execution_count": 18,
     "metadata": {},
     "output_type": "execute_result"
    }
   ],
   "source": [
    "df.groupby('education')['50K'].describe()"
   ]
  },
  {
   "cell_type": "code",
   "execution_count": 28,
   "metadata": {
    "collapsed": false
   },
   "outputs": [
    {
     "data": {
      "text/plain": [
       "0.7708154506437769"
      ]
     },
     "execution_count": 28,
     "metadata": {},
     "output_type": "execute_result"
    }
   ],
   "source": [
    "(871 + 1115 + 400 + 162 + 317 + 606 + 487 + 51 + 423 + 5904 + 3134) / (933 + 1175 + 433 + 168 + 333 + 646 + 514 + 51 + 576 + 7291 + 5355)"
   ]
  },
  {
   "cell_type": "markdown",
   "metadata": {},
   "source": [
    "77 % Такова доля тех, кто получает меньше 50К среди тех, у кого нет высшего образования"
   ]
  },
  {
   "cell_type": "code",
   "execution_count": 26,
   "metadata": {
    "collapsed": false
   },
   "outputs": [
    {
     "data": {
      "text/plain": [
       "sex           \n",
       "Female  count     10771\n",
       "        unique        2\n",
       "        top       <=50K\n",
       "        freq       9592\n",
       "Male    count     21790\n",
       "        unique        2\n",
       "        top       <=50K\n",
       "        freq      15128\n",
       "Name: 50K, dtype: object"
      ]
     },
     "execution_count": 26,
     "metadata": {},
     "output_type": "execute_result"
    }
   ],
   "source": [
    "df.groupby('sex')['50K'].describe()"
   ]
  },
  {
   "cell_type": "code",
   "execution_count": 27,
   "metadata": {
    "collapsed": false
   },
   "outputs": [
    {
     "data": {
      "text/plain": [
       "0.7591904425539756"
      ]
     },
     "execution_count": 27,
     "metadata": {},
     "output_type": "execute_result"
    }
   ],
   "source": [
    "(9592 + 15128) / (10771 + 21790)"
   ]
  },
  {
   "cell_type": "markdown",
   "metadata": {},
   "source": [
    "75,91% - доля тех, кто зарабатывает меньше 50К среди всей выборки. 75% < 77%, значит люди, зарабатывающие более 50 тыс. в основном имеют высшее образование?"
   ]
  },
  {
   "cell_type": "markdown",
   "metadata": {},
   "source": [
    "### Вопрос 7\n",
    "Каков максимальный возраст мужчин и женщин каждой расы?"
   ]
  },
  {
   "cell_type": "code",
   "execution_count": null,
   "metadata": {
    "collapsed": false
   },
   "outputs": [],
   "source": []
  },
  {
   "cell_type": "markdown",
   "metadata": {},
   "source": [
    "### Вопрос 8\n",
    "Люди из каких стран работают как фермеры/рыбаки?"
   ]
  },
  {
   "cell_type": "code",
   "execution_count": 50,
   "metadata": {
    "collapsed": false
   },
   "outputs": [
    {
     "data": {
      "text/plain": [
       "native-country            \n",
       "?                   count                   583\n",
       "                    unique                   14\n",
       "                    top          Prof-specialty\n",
       "                    freq                    102\n",
       "Cambodia            count                    19\n",
       "                    unique                    8\n",
       "                    top            Craft-repair\n",
       "                    freq                      6\n",
       "Canada              count                   121\n",
       "                    unique                   13\n",
       "                    top          Prof-specialty\n",
       "                    freq                     24\n",
       "China               count                    75\n",
       "                    unique                    9\n",
       "                    top          Prof-specialty\n",
       "                    freq                     22\n",
       "Columbia            count                    59\n",
       "                    unique                   12\n",
       "                    top       Machine-op-inspct\n",
       "                    freq                     10\n",
       "Cuba                count                    95\n",
       "                    unique                   13\n",
       "                    top         Exec-managerial\n",
       "                    freq                     16\n",
       "Dominican-Republic  count                    70\n",
       "                    unique                   12\n",
       "                    top       Machine-op-inspct\n",
       "                    freq                     22\n",
       "Ecuador             count                    28\n",
       "                    unique                   12\n",
       "                                    ...        \n",
       "Scotland            top         Exec-managerial\n",
       "                    freq                      3\n",
       "South               count                    80\n",
       "                    unique                   10\n",
       "                    top                   Sales\n",
       "                    freq                     19\n",
       "Taiwan              count                    51\n",
       "                    unique                    8\n",
       "                    top          Prof-specialty\n",
       "                    freq                     21\n",
       "Thailand            count                    18\n",
       "                    unique                    9\n",
       "                    top         Exec-managerial\n",
       "                    freq                      4\n",
       "Trinadad&Tobago     count                    19\n",
       "                    unique                   10\n",
       "                    top            Adm-clerical\n",
       "                    freq                      4\n",
       "United-States       count                 29170\n",
       "                    unique                   15\n",
       "                    top         Exec-managerial\n",
       "                    freq                   3735\n",
       "Vietnam             count                    67\n",
       "                    unique                   12\n",
       "                    top            Adm-clerical\n",
       "                    freq                     17\n",
       "Yugoslavia          count                    16\n",
       "                    unique                    7\n",
       "                    top         Exec-managerial\n",
       "                    freq                      5\n",
       "Name: occupation, dtype: object"
      ]
     },
     "execution_count": 50,
     "metadata": {},
     "output_type": "execute_result"
    }
   ],
   "source": [
    "df.groupby('native-country')['occupation'].describe()"
   ]
  },
  {
   "cell_type": "markdown",
   "metadata": {},
   "source": [
    "Ответ: Cambodia, Canada, China, Columbia, Cuba, Dominican-Republic, Ecuador, Scotland, South, Taiwan, Thailand, Trinadad&Tobago, United-States, Vietnam, Yugoslavia "
   ]
  },
  {
   "cell_type": "markdown",
   "metadata": {},
   "source": [
    "### Вопрос 9\n",
    "Рассмотрим два отношения 1) количество мужчин-бакалавров к количеству мужчин-магистров и 2) количество женщин-бакалавров к количеству женщин-магистров. Какое отношение больше?\n"
   ]
  },
  {
   "cell_type": "code",
   "execution_count": null,
   "metadata": {
    "collapsed": true
   },
   "outputs": [],
   "source": []
  },
  {
   "cell_type": "markdown",
   "metadata": {},
   "source": [
    "### Вопрос 10\n",
    "Каково максимальное количество рабочих часов в неделю? Как много людей работают столько часов в неделю? Каков их заработок?"
   ]
  },
  {
   "cell_type": "code",
   "execution_count": null,
   "metadata": {
    "collapsed": false
   },
   "outputs": [],
   "source": []
  },
  {
   "cell_type": "code",
   "execution_count": null,
   "metadata": {
    "collapsed": true
   },
   "outputs": [],
   "source": []
  }
 ],
 "metadata": {
  "anaconda-cloud": {},
  "kernelspec": {
   "display_name": "Python [Root]",
   "language": "python",
   "name": "Python [Root]"
  },
  "language_info": {
   "codemirror_mode": {
    "name": "ipython",
    "version": 3
   },
   "file_extension": ".py",
   "mimetype": "text/x-python",
   "name": "python",
   "nbconvert_exporter": "python",
   "pygments_lexer": "ipython3",
   "version": "3.5.2"
  },
  "toc": {
   "toc_cell": false,
   "toc_number_sections": false,
   "toc_threshold": 6,
   "toc_window_display": false
  }
 },
 "nbformat": 4,
 "nbformat_minor": 1
}
