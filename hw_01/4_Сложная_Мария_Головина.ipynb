{
 "cells": [
  {
   "cell_type": "markdown",
   "metadata": {},
   "source": [
    "## Домашнее задание №1\n",
    "\n",
    "Выполнила Головина Мария, БЭК145"
   ]
  },
  {
   "cell_type": "code",
   "execution_count": 1,
   "metadata": {
    "collapsed": true
   },
   "outputs": [],
   "source": [
    "import pandas as pd\n",
    "import numpy as np\n",
    "import scipy as scp\n",
    "\n",
    "import matplotlib.pyplot as plt\n",
    "plt.style.use('ggplot')\n",
    "%matplotlib inline"
   ]
  },
  {
   "cell_type": "code",
   "execution_count": 2,
   "metadata": {
    "collapsed": false
   },
   "outputs": [
    {
     "data": {
      "text/html": [
       "<div>\n",
       "<table border=\"1\" class=\"dataframe\">\n",
       "  <thead>\n",
       "    <tr style=\"text-align: right;\">\n",
       "      <th></th>\n",
       "      <th>age</th>\n",
       "      <th>workclass</th>\n",
       "      <th>fnlwgt</th>\n",
       "      <th>education</th>\n",
       "      <th>education-num</th>\n",
       "      <th>marital-status</th>\n",
       "      <th>occupation</th>\n",
       "      <th>relationship</th>\n",
       "      <th>race</th>\n",
       "      <th>sex</th>\n",
       "      <th>capital-gain</th>\n",
       "      <th>capital-loss</th>\n",
       "      <th>hours-per-week</th>\n",
       "      <th>native-country</th>\n",
       "      <th>50K</th>\n",
       "    </tr>\n",
       "  </thead>\n",
       "  <tbody>\n",
       "    <tr>\n",
       "      <th>0</th>\n",
       "      <td>39</td>\n",
       "      <td>State-gov</td>\n",
       "      <td>77516</td>\n",
       "      <td>Bachelors</td>\n",
       "      <td>13</td>\n",
       "      <td>Never-married</td>\n",
       "      <td>Adm-clerical</td>\n",
       "      <td>Not-in-family</td>\n",
       "      <td>White</td>\n",
       "      <td>Male</td>\n",
       "      <td>2174</td>\n",
       "      <td>0</td>\n",
       "      <td>40</td>\n",
       "      <td>United-States</td>\n",
       "      <td>&lt;=50K</td>\n",
       "    </tr>\n",
       "    <tr>\n",
       "      <th>1</th>\n",
       "      <td>50</td>\n",
       "      <td>Self-emp-not-inc</td>\n",
       "      <td>83311</td>\n",
       "      <td>Bachelors</td>\n",
       "      <td>13</td>\n",
       "      <td>Married-civ-spouse</td>\n",
       "      <td>Exec-managerial</td>\n",
       "      <td>Husband</td>\n",
       "      <td>White</td>\n",
       "      <td>Male</td>\n",
       "      <td>0</td>\n",
       "      <td>0</td>\n",
       "      <td>13</td>\n",
       "      <td>United-States</td>\n",
       "      <td>&lt;=50K</td>\n",
       "    </tr>\n",
       "    <tr>\n",
       "      <th>2</th>\n",
       "      <td>38</td>\n",
       "      <td>Private</td>\n",
       "      <td>215646</td>\n",
       "      <td>HS-grad</td>\n",
       "      <td>9</td>\n",
       "      <td>Divorced</td>\n",
       "      <td>Handlers-cleaners</td>\n",
       "      <td>Not-in-family</td>\n",
       "      <td>White</td>\n",
       "      <td>Male</td>\n",
       "      <td>0</td>\n",
       "      <td>0</td>\n",
       "      <td>40</td>\n",
       "      <td>United-States</td>\n",
       "      <td>&lt;=50K</td>\n",
       "    </tr>\n",
       "  </tbody>\n",
       "</table>\n",
       "</div>"
      ],
      "text/plain": [
       "   age         workclass  fnlwgt  education  education-num  \\\n",
       "0   39         State-gov   77516  Bachelors             13   \n",
       "1   50  Self-emp-not-inc   83311  Bachelors             13   \n",
       "2   38           Private  215646    HS-grad              9   \n",
       "\n",
       "       marital-status         occupation   relationship   race   sex  \\\n",
       "0       Never-married       Adm-clerical  Not-in-family  White  Male   \n",
       "1  Married-civ-spouse    Exec-managerial        Husband  White  Male   \n",
       "2            Divorced  Handlers-cleaners  Not-in-family  White  Male   \n",
       "\n",
       "   capital-gain  capital-loss  hours-per-week native-country    50K  \n",
       "0          2174             0              40  United-States  <=50K  \n",
       "1             0             0              13  United-States  <=50K  \n",
       "2             0             0              40  United-States  <=50K  "
      ]
     },
     "execution_count": 2,
     "metadata": {},
     "output_type": "execute_result"
    }
   ],
   "source": [
    "nameslist = [\"age\", \"workclass\", \"fnlwgt\", \"education\", \"education-num\", \"marital-status\", \n",
    "             \"occupation\", \"relationship\", \"race\", \"sex\", \"capital-gain\", \"capital-loss\", \n",
    "             \"hours-per-week\", \"native-country\", \"50K\"]\n",
    "\n",
    "data = pd.read_csv('adult.data.csv', header = None, names = nameslist, skipinitialspace = True)\n",
    "data.head(3)"
   ]
  },
  {
   "cell_type": "markdown",
   "metadata": {},
   "source": [
    "### Вопрос 1\n",
    "Сколько мужчин и женщин в выборке?"
   ]
  },
  {
   "cell_type": "code",
   "execution_count": 3,
   "metadata": {
    "collapsed": false
   },
   "outputs": [
    {
     "name": "stdout",
     "output_type": "stream",
     "text": [
      "Мужчин в выборке 21790, а женщин – 10771.\n"
     ]
    }
   ],
   "source": [
    "print('Мужчин в выборке %i, а женщин – %i.' % (data['sex'][data['sex']=='Male'].count(), data['sex'][data['sex']=='Female'].count()))"
   ]
  },
  {
   "cell_type": "markdown",
   "metadata": {},
   "source": [
    "### Вопрос 2\n",
    "Каков средний возраст мужчин?\n"
   ]
  },
  {
   "cell_type": "code",
   "execution_count": 9,
   "metadata": {
    "collapsed": false
   },
   "outputs": [
    {
     "data": {
      "text/plain": [
       "39.433547498852683"
      ]
     },
     "execution_count": 9,
     "metadata": {},
     "output_type": "execute_result"
    }
   ],
   "source": [
    "data.groupby('sex')['age'].mean()['Male']"
   ]
  },
  {
   "cell_type": "markdown",
   "metadata": {},
   "source": [
    "### Вопрос 3\n",
    "Какова доля граждан США?"
   ]
  },
  {
   "cell_type": "markdown",
   "metadata": {},
   "source": [
    "написать про ?"
   ]
  },
  {
   "cell_type": "code",
   "execution_count": 11,
   "metadata": {
    "collapsed": false
   },
   "outputs": [
    {
     "data": {
      "text/plain": [
       "United-States    0.895857\n",
       "Name: native-country, dtype: float64"
      ]
     },
     "execution_count": 11,
     "metadata": {},
     "output_type": "execute_result"
    }
   ],
   "source": [
    "data['native-country'].value_counts(normalize = True).head(1)"
   ]
  },
  {
   "cell_type": "code",
   "execution_count": 9,
   "metadata": {
    "collapsed": false
   },
   "outputs": [
    {
     "data": {
      "text/plain": [
       "0.89585700684868397"
      ]
     },
     "execution_count": 9,
     "metadata": {},
     "output_type": "execute_result"
    }
   ],
   "source": [
    "data['age'][data['native-country']=='United-States'].count()/data.shape[0]"
   ]
  },
  {
   "cell_type": "markdown",
   "metadata": {},
   "source": [
    "### Вопрос 4\n",
    "Нарисовать распределение уровня образования в виде столбчатой диаграммы (bar plot)."
   ]
  },
  {
   "cell_type": "code",
   "execution_count": 10,
   "metadata": {
    "collapsed": false
   },
   "outputs": [
    {
     "data": {
      "image/png": "[encoded data removed]",
      "text/plain": [
       "<matplotlib.figure.Figure at 0x111037dd8>"
      ]
     },
     "metadata": {},
     "output_type": "display_data"
    }
   ],
   "source": [
    "data['education-num'].plot.hist(bins = len(set(data['education-num'])), color = 'hotpink', alpha = 0.7);"
   ]
  },
  {
   "cell_type": "code",
   "execution_count": 13,
   "metadata": {
    "collapsed": false
   },
   "outputs": [
    {
     "data": {
      "image/png": "[encoded data removed]",
      "text/plain": [
       "<matplotlib.figure.Figure at 0x10ec01b70>"
      ]
     },
     "metadata": {},
     "output_type": "display_data"
    }
   ],
   "source": [
    "data['education'].value_counts().plot(kind = 'barh', color = 'hotpink', alpha = 0.7);"
   ]
  },
  {
   "cell_type": "markdown",
   "metadata": {},
   "source": [
    "### Вопрос 5\n",
    "Найти среднее и стандартное отклонение переменной \"final weight\" (fnlwgt) для разведённых людей?"
   ]
  },
  {
   "cell_type": "code",
   "execution_count": 14,
   "metadata": {
    "collapsed": false
   },
   "outputs": [
    {
     "name": "stdout",
     "output_type": "stream",
     "text": [
      "Среднее: 185802.79045689848\n"
     ]
    }
   ],
   "source": [
    "print('Среднее:', data['fnlwgt'][data['marital-status'] == 'Divorced'].mean())"
   ]
  },
  {
   "cell_type": "code",
   "execution_count": 18,
   "metadata": {
    "collapsed": false
   },
   "outputs": [
    {
     "name": "stdout",
     "output_type": "stream",
     "text": [
      "Стандартное отклонение: 105646.78945933603\n"
     ]
    }
   ],
   "source": [
    "print('Стандартное отклонение:', data['fnlwgt'][data['marital-status'] == 'Divorced'].std())"
   ]
  },
  {
   "cell_type": "markdown",
   "metadata": {},
   "source": [
    "### Вопрос 6\n",
    "Правда ли, что люди, зарабатывающие более 50 тыс. в основном имеют высшее образование?"
   ]
  },
  {
   "cell_type": "markdown",
   "metadata": {},
   "source": [
    "Будем считать, что Assoc-voc, Assoc-acdm и prof-school не являются высшим образованием, то есть высшее образование имеют только категории людей с education-num 13, 14, 16 (бакалавры, магистры и д.н. соответственно)"
   ]
  },
  {
   "cell_type": "code",
   "execution_count": 20,
   "metadata": {
    "collapsed": false
   },
   "outputs": [
    {
     "data": {
      "text/plain": [
       "Bachelors       2221\n",
       "HS-grad         1675\n",
       "Some-college    1387\n",
       "Masters          959\n",
       "Prof-school      423\n",
       "Assoc-voc        361\n",
       "Doctorate        306\n",
       "Assoc-acdm       265\n",
       "10th              62\n",
       "11th              60\n",
       "7th-8th           40\n",
       "12th              33\n",
       "9th               27\n",
       "5th-6th           16\n",
       "1st-4th            6\n",
       "Name: education, dtype: int64"
      ]
     },
     "execution_count": 20,
     "metadata": {},
     "output_type": "execute_result"
    }
   ],
   "source": [
    "data[data['50K'] == '>50K']['education'].value_counts()"
   ]
  },
  {
   "cell_type": "code",
   "execution_count": 81,
   "metadata": {
    "collapsed": false
   },
   "outputs": [
    {
     "name": "stdout",
     "output_type": "stream",
     "text": [
      "Высшее образование есть у 3486 человек, это 0.444586 от всех.\n"
     ]
    }
   ],
   "source": [
    "fiftyk = data[data['50K'] == '>50K']\n",
    "print('Высшее образование есть у %i человек, это %f от всех.' % (fiftyk[fiftyk['education-num'].isin([13, 14, 16])]['education'].count(), fiftyk[fiftyk['education-num'].isin([13, 14, 16])]['education'].count()/fiftyk['education'].count()))"
   ]
  },
  {
   "cell_type": "markdown",
   "metadata": {},
   "source": [
    "То есть если считать, что \"в основном\" = \"в абсолютном большинстве случаев\", то утверждение в вопросе 6 неверно."
   ]
  },
  {
   "cell_type": "markdown",
   "metadata": {},
   "source": [
    "### Вопрос 7\n",
    "Каков максимальный возраст мужчин и женщин каждой расы?"
   ]
  },
  {
   "cell_type": "code",
   "execution_count": 22,
   "metadata": {
    "collapsed": false
   },
   "outputs": [
    {
     "name": "stdout",
     "output_type": "stream",
     "text": [
      "Race: White\n",
      "Max age amongst males: 90\n",
      "Max age amongst females: 90 \n",
      "\n",
      "Race: Asian-Pac-Islander\n",
      "Max age amongst males: 90\n",
      "Max age amongst females: 75 \n",
      "\n",
      "Race: Other\n",
      "Max age amongst males: 77\n",
      "Max age amongst females: 74 \n",
      "\n",
      "Race: Black\n",
      "Max age amongst males: 90\n",
      "Max age amongst females: 90 \n",
      "\n",
      "Race: Amer-Indian-Eskimo\n",
      "Max age amongst males: 82\n",
      "Max age amongst females: 80 \n",
      "\n"
     ]
    }
   ],
   "source": [
    "for i in set(data['race'].values):\n",
    "    print('Race:', i)\n",
    "    print('Max age amongst males:', max(data[(data['race'] == i) & (data['sex'] == 'Male')]['age']))\n",
    "    print('Max age amongst females:', max(data[(data['race'] == i) & (data['sex'] == 'Female')]['age']), '\\n')"
   ]
  },
  {
   "cell_type": "markdown",
   "metadata": {},
   "source": [
    "а, точно, есть же групбай"
   ]
  },
  {
   "cell_type": "code",
   "execution_count": 25,
   "metadata": {
    "collapsed": false
   },
   "outputs": [
    {
     "data": {
      "text/plain": [
       "race                sex   \n",
       "Amer-Indian-Eskimo  Female    80\n",
       "                    Male      82\n",
       "Asian-Pac-Islander  Female    75\n",
       "                    Male      90\n",
       "Black               Female    90\n",
       "                    Male      90\n",
       "Other               Female    74\n",
       "                    Male      77\n",
       "White               Female    90\n",
       "                    Male      90\n",
       "Name: age, dtype: int64"
      ]
     },
     "execution_count": 25,
     "metadata": {},
     "output_type": "execute_result"
    }
   ],
   "source": [
    "data.groupby(['race','sex'])['age'].max()"
   ]
  },
  {
   "cell_type": "markdown",
   "metadata": {},
   "source": [
    "### Вопрос 8\n",
    "Люди из каких стран работают как фермеры/рыбаки?"
   ]
  },
  {
   "cell_type": "markdown",
   "metadata": {},
   "source": [
    "В абсолютном значении лидируют США и Мексика, а про ситуацию в целом по стране (где больше всего доля фермеров и рыбаков) мы ничего сказать не можем, потому что не знаем ничего про формирование выборки"
   ]
  },
  {
   "cell_type": "code",
   "execution_count": 23,
   "metadata": {
    "collapsed": false
   },
   "outputs": [
    {
     "data": {
      "text/plain": [
       "United-States    879\n",
       "Mexico            77\n",
       "?                  5\n",
       "Puerto-Rico        5\n",
       "Guatemala          4\n",
       "Philippines        4\n",
       "Italy              2\n",
       "Canada             2\n",
       "El-Salvador        2\n",
       "Cuba               2\n",
       "Vietnam            2\n",
       "Portugal           1\n",
       "Poland             1\n",
       "France             1\n",
       "Yugoslavia         1\n",
       "Germany            1\n",
       "Ireland            1\n",
       "England            1\n",
       "Cambodia           1\n",
       "Hong               1\n",
       "Japan              1\n",
       "Name: native-country, dtype: int64"
      ]
     },
     "execution_count": 23,
     "metadata": {},
     "output_type": "execute_result"
    }
   ],
   "source": [
    "data[data['occupation'] == 'Farming-fishing']['native-country'].value_counts()"
   ]
  },
  {
   "cell_type": "markdown",
   "metadata": {},
   "source": [
    "Наблюдаемые доли фермеров/рыбаков среди всех рождённых в той или иной стране (просто так):"
   ]
  },
  {
   "cell_type": "code",
   "execution_count": 40,
   "metadata": {
    "collapsed": false
   },
   "outputs": [
    {
     "name": "stdout",
     "output_type": "stream",
     "text": [
      "Country: ?\n",
      "Share: 0.00857632933105 \n",
      "\n",
      "Country: Cambodia\n",
      "Share: 0.0526315789474 \n",
      "\n",
      "Country: Canada\n",
      "Share: 0.0165289256198 \n",
      "\n",
      "Country: China\n",
      "Share: 0.0 \n",
      "\n",
      "Country: Columbia\n",
      "Share: 0.0 \n",
      "\n",
      "Country: Cuba\n",
      "Share: 0.0210526315789 \n",
      "\n",
      "Country: Dominican-Republic\n",
      "Share: 0.0 \n",
      "\n",
      "Country: Ecuador\n",
      "Share: 0.0 \n",
      "\n",
      "Country: El-Salvador\n",
      "Share: 0.0188679245283 \n",
      "\n",
      "Country: England\n",
      "Share: 0.0111111111111 \n",
      "\n",
      "Country: France\n",
      "Share: 0.0344827586207 \n",
      "\n",
      "Country: Germany\n",
      "Share: 0.00729927007299 \n",
      "\n",
      "Country: Greece\n",
      "Share: 0.0 \n",
      "\n",
      "Country: Guatemala\n",
      "Share: 0.0625 \n",
      "\n",
      "Country: Haiti\n",
      "Share: 0.0 \n",
      "\n",
      "Country: Holand-Netherlands\n",
      "Share: 0.0 \n",
      "\n",
      "Country: Honduras\n",
      "Share: 0.0 \n",
      "\n",
      "Country: Hong\n",
      "Share: 0.05 \n",
      "\n",
      "Country: Hungary\n",
      "Share: 0.0 \n",
      "\n",
      "Country: India\n",
      "Share: 0.0 \n",
      "\n",
      "Country: Iran\n",
      "Share: 0.0 \n",
      "\n",
      "Country: Ireland\n",
      "Share: 0.0416666666667 \n",
      "\n",
      "Country: Italy\n",
      "Share: 0.027397260274 \n",
      "\n",
      "Country: Jamaica\n",
      "Share: 0.0 \n",
      "\n",
      "Country: Japan\n",
      "Share: 0.0161290322581 \n",
      "\n",
      "Country: Laos\n",
      "Share: 0.0 \n",
      "\n",
      "Country: Mexico\n",
      "Share: 0.119751166407 \n",
      "\n",
      "Country: Nicaragua\n",
      "Share: 0.0 \n",
      "\n",
      "Country: Outlying-US(Guam-USVI-etc)\n",
      "Share: 0.0 \n",
      "\n",
      "Country: Peru\n",
      "Share: 0.0 \n",
      "\n",
      "Country: Philippines\n",
      "Share: 0.020202020202 \n",
      "\n",
      "Country: Poland\n",
      "Share: 0.0166666666667 \n",
      "\n",
      "Country: Portugal\n",
      "Share: 0.027027027027 \n",
      "\n",
      "Country: Puerto-Rico\n",
      "Share: 0.0438596491228 \n",
      "\n",
      "Country: Scotland\n",
      "Share: 0.0 \n",
      "\n",
      "Country: South\n",
      "Share: 0.0 \n",
      "\n",
      "Country: Taiwan\n",
      "Share: 0.0 \n",
      "\n",
      "Country: Thailand\n",
      "Share: 0.0 \n",
      "\n",
      "Country: Trinadad&Tobago\n",
      "Share: 0.0 \n",
      "\n",
      "Country: United-States\n",
      "Share: 0.0301336990058 \n",
      "\n",
      "Country: Vietnam\n",
      "Share: 0.0298507462687 \n",
      "\n",
      "Country: Yugoslavia\n",
      "Share: 0.0625 \n",
      "\n"
     ]
    }
   ],
   "source": [
    "countries = np.unique(data['native-country'].values)\n",
    "\n",
    "for i in countries:\n",
    "    print('Country:', i)\n",
    "    print('Share:', data[(data['native-country'] == i) & (data['occupation'] == 'Farming-fishing')].count()[0]/data[data['native-country'] == i].count()[0], '\\n')"
   ]
  },
  {
   "cell_type": "markdown",
   "metadata": {},
   "source": [
    "### Вопрос 9\n",
    "Рассмотрим два отношения 1) количество мужчин-бакалавров к количеству мужчин-магистров и 2) количество женщин-бакалавров к количеству женщин-магистров. Какое отношение больше?\n"
   ]
  },
  {
   "cell_type": "code",
   "execution_count": 41,
   "metadata": {
    "collapsed": false
   },
   "outputs": [
    {
     "data": {
      "text/plain": [
       "3.1474304970513902"
      ]
     },
     "execution_count": 41,
     "metadata": {},
     "output_type": "execute_result"
    }
   ],
   "source": [
    "data[(data['education'] == 'Bachelors') & (data['sex'] == 'Male')].count()[0]/data[(data['education'] == 'Masters') & (data['sex'] == 'Male')].count()[0]"
   ]
  },
  {
   "cell_type": "code",
   "execution_count": 42,
   "metadata": {
    "collapsed": false
   },
   "outputs": [
    {
     "data": {
      "text/plain": [
       "3.0205223880597014"
      ]
     },
     "execution_count": 42,
     "metadata": {},
     "output_type": "execute_result"
    }
   ],
   "source": [
    "data[(data['education'] == 'Bachelors') & (data['sex'] == 'Female')].count()[0]/data[(data['education'] == 'Masters') & (data['sex'] == 'Female')].count()[0]"
   ]
  },
  {
   "cell_type": "markdown",
   "metadata": {},
   "source": [
    "Первое отношение больше, если смотреть только отношение бакалавров к магистрам"
   ]
  },
  {
   "cell_type": "markdown",
   "metadata": {},
   "source": [
    "### Вопрос 10\n",
    "Каково максимальное количество рабочих часов в неделю? Как много людей работают столько часов в неделю? Каков их заработок?"
   ]
  },
  {
   "cell_type": "code",
   "execution_count": 43,
   "metadata": {
    "collapsed": false
   },
   "outputs": [
    {
     "name": "stdout",
     "output_type": "stream",
     "text": [
      "Максимально работают 99 часов в неделю, таких людей 85.\n"
     ]
    }
   ],
   "source": [
    "print('Максимально работают %i часов в неделю, таких людей %i.' % (max(data['hours-per-week']), data[data['hours-per-week'] == max(data['hours-per-week'])].count()[0]))"
   ]
  },
  {
   "cell_type": "code",
   "execution_count": 71,
   "metadata": {
    "collapsed": false
   },
   "outputs": [
    {
     "data": {
      "text/plain": [
       "<=50K    60\n",
       ">50K     25\n",
       "Name: 50K, dtype: int64"
      ]
     },
     "execution_count": 71,
     "metadata": {},
     "output_type": "execute_result"
    }
   ],
   "source": [
    "data[data['hours-per-week'] == max(data['hours-per-week'])]['50K'].value_counts()"
   ]
  },
  {
   "cell_type": "markdown",
   "metadata": {},
   "source": [
    "Большая часть из них зарабатывает при этом <=50K."
   ]
  }
 ],
 "metadata": {
  "kernelspec": {
   "display_name": "Python 3",
   "language": "python",
   "name": "python3"
  },
  "language_info": {
   "codemirror_mode": {
    "name": "ipython",
    "version": 3
   },
   "file_extension": ".py",
   "mimetype": "text/x-python",
   "name": "python",
   "nbconvert_exporter": "python",
   "pygments_lexer": "ipython3",
   "version": "3.6.1"
  },
  "toc": {
   "toc_cell": false,
   "toc_number_sections": false,
   "toc_threshold": 6,
   "toc_window_display": false
  }
 },
 "nbformat": 4,
 "nbformat_minor": 1
}
