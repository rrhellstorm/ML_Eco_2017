{
 "cells": [
  {
   "cell_type": "code",
   "execution_count": 1,
   "metadata": {
    "collapsed": true
   },
   "outputs": [],
   "source": [
    "import pandas as pd\n",
    "import numpy as np\n",
    "%matplotlib inline\n",
    "import matplotlib.pyplot as plt"
   ]
  },
  {
   "cell_type": "code",
   "execution_count": 2,
   "metadata": {
    "collapsed": false
   },
   "outputs": [],
   "source": [
    "data = pd.read_csv('C://Users/user/Desktop/Вышка/4 курс/Машинное обучение/HW-1/adult.data.csv', sep=',', header = None,names=[\"age\", \"workclass\", \"fnlwgt\", \"education\", \"education-num\", \"marital-status\", \"occupation\", \"relationship\", \"race\", \"sex\", \"capital-gain\", \"capital-loss\", \"hours-per-week\", \"native-country\", \"50K\"], skipinitialspace=True )"
   ]
  },
  {
   "cell_type": "markdown",
   "metadata": {},
   "source": [
    "# Вопрос 1\n",
    "Сколько мужчин и женщин в выборке?"
   ]
  },
  {
   "cell_type": "code",
   "execution_count": 30,
   "metadata": {
    "collapsed": false
   },
   "outputs": [
    {
     "name": "stdout",
     "output_type": "stream",
     "text": [
      "В выборке 10771 женщин и 21790 мужчин.\n"
     ]
    }
   ],
   "source": [
    "print('В выборке',data.groupby('sex').count()['age'][0], 'женщин и',\n",
    "      data.groupby('sex').count()['age'][1],'мужчин.')"
   ]
  },
  {
   "cell_type": "markdown",
   "metadata": {},
   "source": [
    "# Вопрос 2"
   ]
  },
  {
   "cell_type": "markdown",
   "metadata": {},
   "source": [
    "Каков средний возраст мужчин?"
   ]
  },
  {
   "cell_type": "code",
   "execution_count": 35,
   "metadata": {
    "collapsed": false
   },
   "outputs": [
    {
     "name": "stdout",
     "output_type": "stream",
     "text": [
      "Средний возраст мужчин 39.0 лет\n"
     ]
    }
   ],
   "source": [
    "print('Средний возраст мужчин', round(data.groupby('sex')['age'].mean()[1],0), 'лет')"
   ]
  },
  {
   "cell_type": "markdown",
   "metadata": {},
   "source": [
    "# Вопрос 3"
   ]
  },
  {
   "cell_type": "markdown",
   "metadata": {},
   "source": [
    "Какова доля граждан США?"
   ]
  },
  {
   "cell_type": "code",
   "execution_count": 68,
   "metadata": {
    "collapsed": false
   },
   "outputs": [
    {
     "name": "stdout",
     "output_type": "stream",
     "text": [
      "Доля граждан США 89.6 %\n"
     ]
    }
   ],
   "source": [
    "print('Доля граждан США', \n",
    "     round((data.groupby('native-country')['sex'].value_counts().nlargest(2)[0]+data.groupby('native-country')['sex'].value_counts().nlargest(2)[1])\\\n",
    "      /(data.groupby('sex').count()['age'][0]+ data.groupby('sex').count()['age'][1])*100,1),'%')"
   ]
  },
  {
   "cell_type": "markdown",
   "metadata": {},
   "source": [
    "# Вопрос 4"
   ]
  },
  {
   "cell_type": "markdown",
   "metadata": {},
   "source": [
    "Нарисовать распределение уровня образования в виде столбчатой диаграммы (bar plot).\n"
   ]
  },
  {
   "cell_type": "code",
   "execution_count": 35,
   "metadata": {
    "collapsed": false
   },
   "outputs": [
    {
     "data": {
      "text/plain": [
       "<matplotlib.text.Text at 0x9421c50>"
      ]
     },
     "execution_count": 35,
     "metadata": {},
     "output_type": "execute_result"
    },
    {
     "data": {
      "image/png": "[encoded data removed]",
      "text/plain": [
       "<matplotlib.figure.Figure at 0x94b0b00>"
      ]
     },
     "metadata": {},
     "output_type": "display_data"
    }
   ],
   "source": [
    "data.education.value_counts().plot(kind='bar')\n",
    "plt.xlabel('Education')\n",
    "plt.ylabel('People')"
   ]
  },
  {
   "cell_type": "markdown",
   "metadata": {},
   "source": [
    "# Вопрос 5"
   ]
  },
  {
   "cell_type": "markdown",
   "metadata": {},
   "source": [
    "Найти среднее и стандартное отклонение переменной \"final weight\" (fnlwgt) для разведённых людей?"
   ]
  },
  {
   "cell_type": "code",
   "execution_count": 94,
   "metadata": {
    "collapsed": false
   },
   "outputs": [
    {
     "name": "stdout",
     "output_type": "stream",
     "text": [
      "Среднее: 185802.79 ;Стандартное отклонение: 105646.79\n"
     ]
    }
   ],
   "source": [
    "print('Среднее:',round(data[data['marital-status']=='Divorced']['fnlwgt'].mean(),2),';'\n",
    "     'Стандартное отклонение:',round(data[data['marital-status']=='Divorced']['fnlwgt'].std(),2))"
   ]
  },
  {
   "cell_type": "markdown",
   "metadata": {},
   "source": [
    "# Вопрос 6"
   ]
  },
  {
   "cell_type": "markdown",
   "metadata": {},
   "source": [
    "Правда ли, что люди, зарабатывающие более 50 тыс. в основном имеют высшее образование?\n"
   ]
  },
  {
   "cell_type": "code",
   "execution_count": 25,
   "metadata": {
    "collapsed": false
   },
   "outputs": [
    {
     "name": "stdout",
     "output_type": "stream",
     "text": [
      "Доля людей с высшим образованием, получающих больше 50K $ 44.46 %.Следовательно, в основном - нет.\n"
     ]
    }
   ],
   "source": [
    "print('Доля людей с высшим образованием, получающих больше 50K $', round(len(data[(data['50K']=='>50K')&((data['education']=='Bachelors')|(data['education']=='Masters')|(data['education']=='Doctorate'))])/len(data[data['50K']=='>50K'])*100,2),'%.Следовательно, в основном - нет.')"
   ]
  },
  {
   "cell_type": "markdown",
   "metadata": {},
   "source": [
    "# Вопрос 7"
   ]
  },
  {
   "cell_type": "markdown",
   "metadata": {},
   "source": [
    "Каков максимальный возраст мужчин и женщин каждой расы?"
   ]
  },
  {
   "cell_type": "code",
   "execution_count": 118,
   "metadata": {
    "collapsed": false
   },
   "outputs": [
    {
     "name": "stdout",
     "output_type": "stream",
     "text": [
      "Таблица, описывающая максимальный возраст мужчины и женщины каждой расы, а также количество человек:\n"
     ]
    },
    {
     "data": {
      "text/html": [
       "<div>\n",
       "<table border=\"1\" class=\"dataframe\">\n",
       "  <thead>\n",
       "    <tr style=\"text-align: right;\">\n",
       "      <th></th>\n",
       "      <th></th>\n",
       "      <th></th>\n",
       "      <th>age</th>\n",
       "    </tr>\n",
       "    <tr>\n",
       "      <th>race</th>\n",
       "      <th>sex</th>\n",
       "      <th></th>\n",
       "      <th></th>\n",
       "    </tr>\n",
       "  </thead>\n",
       "  <tbody>\n",
       "    <tr>\n",
       "      <th rowspan=\"2\" valign=\"top\">Amer-Indian-Eskimo</th>\n",
       "      <th>Female</th>\n",
       "      <th>19515</th>\n",
       "      <td>80</td>\n",
       "    </tr>\n",
       "    <tr>\n",
       "      <th>Male</th>\n",
       "      <th>12492</th>\n",
       "      <td>82</td>\n",
       "    </tr>\n",
       "    <tr>\n",
       "      <th rowspan=\"2\" valign=\"top\">Asian-Pac-Islander</th>\n",
       "      <th>Female</th>\n",
       "      <th>9147</th>\n",
       "      <td>75</td>\n",
       "    </tr>\n",
       "    <tr>\n",
       "      <th>Male</th>\n",
       "      <th>2303</th>\n",
       "      <td>90</td>\n",
       "    </tr>\n",
       "    <tr>\n",
       "      <th rowspan=\"2\" valign=\"top\">Black</th>\n",
       "      <th>Female</th>\n",
       "      <th>19212</th>\n",
       "      <td>90</td>\n",
       "    </tr>\n",
       "    <tr>\n",
       "      <th>Male</th>\n",
       "      <th>222</th>\n",
       "      <td>90</td>\n",
       "    </tr>\n",
       "    <tr>\n",
       "      <th rowspan=\"2\" valign=\"top\">Other</th>\n",
       "      <th>Female</th>\n",
       "      <th>26503</th>\n",
       "      <td>74</td>\n",
       "    </tr>\n",
       "    <tr>\n",
       "      <th>Male</th>\n",
       "      <th>12670</th>\n",
       "      <td>77</td>\n",
       "    </tr>\n",
       "    <tr>\n",
       "      <th rowspan=\"2\" valign=\"top\">White</th>\n",
       "      <th>Female</th>\n",
       "      <th>1040</th>\n",
       "      <td>90</td>\n",
       "    </tr>\n",
       "    <tr>\n",
       "      <th>Male</th>\n",
       "      <th>1935</th>\n",
       "      <td>90</td>\n",
       "    </tr>\n",
       "  </tbody>\n",
       "</table>\n",
       "</div>"
      ],
      "text/plain": [
       "                                 age\n",
       "race               sex              \n",
       "Amer-Indian-Eskimo Female 19515   80\n",
       "                   Male   12492   82\n",
       "Asian-Pac-Islander Female 9147    75\n",
       "                   Male   2303    90\n",
       "Black              Female 19212   90\n",
       "                   Male   222     90\n",
       "Other              Female 26503   74\n",
       "                   Male   12670   77\n",
       "White              Female 1040    90\n",
       "                   Male   1935    90"
      ]
     },
     "execution_count": 118,
     "metadata": {},
     "output_type": "execute_result"
    }
   ],
   "source": [
    "print('Таблица, описывающая максимальный возраст мужчины и женщины каждой расы, а также количество человек:')\n",
    "pd.DataFrame(data.groupby(['race','sex'])['age'].nlargest(1))"
   ]
  },
  {
   "cell_type": "markdown",
   "metadata": {},
   "source": [
    "# Вопрос 8 "
   ]
  },
  {
   "cell_type": "markdown",
   "metadata": {},
   "source": [
    "Люди из каких стран работают как фермеры/рыбаки?\n"
   ]
  },
  {
   "cell_type": "code",
   "execution_count": 128,
   "metadata": {
    "collapsed": false
   },
   "outputs": [
    {
     "name": "stdout",
     "output_type": "stream",
     "text": [
      "Люди из United-States работают как фермеры-рыбаки\n",
      "Люди из Mexico работают как фермеры-рыбаки\n",
      "Люди из ? работают как фермеры-рыбаки\n",
      "Люди из Puerto-Rico работают как фермеры-рыбаки\n",
      "Люди из Philippines работают как фермеры-рыбаки\n",
      "Люди из Guatemala работают как фермеры-рыбаки\n",
      "Люди из Canada работают как фермеры-рыбаки\n",
      "Люди из Italy работают как фермеры-рыбаки\n",
      "Люди из El-Salvador работают как фермеры-рыбаки\n",
      "Люди из Cuba работают как фермеры-рыбаки\n",
      "Люди из Vietnam работают как фермеры-рыбаки\n",
      "Люди из Ireland работают как фермеры-рыбаки\n",
      "Люди из Cambodia работают как фермеры-рыбаки\n",
      "Люди из Portugal работают как фермеры-рыбаки\n",
      "Люди из England работают как фермеры-рыбаки\n",
      "Люди из Yugoslavia работают как фермеры-рыбаки\n",
      "Люди из Hong работают как фермеры-рыбаки\n",
      "Люди из Japan работают как фермеры-рыбаки\n",
      "Люди из France работают как фермеры-рыбаки\n",
      "Люди из Germany работают как фермеры-рыбаки\n",
      "Люди из Poland работают как фермеры-рыбаки\n"
     ]
    }
   ],
   "source": [
    "for i in data[data['occupation']=='Farming-fishing']['native-country'].value_counts().index.tolist():\n",
    "    print('Люди из', i, 'работают как фермеры-рыбаки')"
   ]
  },
  {
   "cell_type": "markdown",
   "metadata": {},
   "source": [
    "# Вопрос 9"
   ]
  },
  {
   "cell_type": "markdown",
   "metadata": {},
   "source": [
    "Рассмотрим два отношения 1) количество мужчин-бакалавров к количеству мужчин-магистров и 2) количество женщин-бакалавров к количеству женщин-магистров. Какое отношение больше?"
   ]
  },
  {
   "cell_type": "code",
   "execution_count": 166,
   "metadata": {
    "collapsed": false,
    "scrolled": true
   },
   "outputs": [
    {
     "name": "stdout",
     "output_type": "stream",
     "text": [
      "Количество мужчин бакалаврорв к магистрам: 3.15\n",
      "Количество женщин бакалавров к магистрам: 3.02\n"
     ]
    }
   ],
   "source": [
    "print('Количество мужчин бакалаврорв к магистрам:',round(data[(data['sex']=='Male')&(data['education']=='Bachelors')].count()[0]/data[(data['sex']=='Male')&(data['education']=='Masters')].count()[0],2))\n",
    "print('Количество женщин бакалавров к магистрам:',round(data[(data['sex']=='Female')&(data['education']=='Bachelors')].count()[0]/data[(data['sex']=='Female')&(data['education']=='Masters')].count()[0],2))"
   ]
  },
  {
   "cell_type": "markdown",
   "metadata": {},
   "source": [
    "# Вопрос 10"
   ]
  },
  {
   "cell_type": "markdown",
   "metadata": {},
   "source": [
    "Каково максимальное количество рабочих часов в неделю? Как много людей работают столько часов в неделю? Каков их заработок?"
   ]
  },
  {
   "cell_type": "code",
   "execution_count": 181,
   "metadata": {
    "collapsed": false
   },
   "outputs": [
    {
     "name": "stdout",
     "output_type": "stream",
     "text": [
      "Максимальное количество рабочих часов: 99 часов\n",
      "Их заработок: 85 $\n"
     ]
    }
   ],
   "source": [
    "print('Максимальное количество рабочих часов:',data['hours-per-week'].max(),'часов')\n",
    "print('Их заработок:',      list(data[data['hours-per-week']==data['hours-per-week'].max()]['hours-per-week'].value_counts())[0],'$')"
   ]
  }
 ],
 "metadata": {
  "anaconda-cloud": {},
  "kernelspec": {
   "display_name": "Python [conda root]",
   "language": "python",
   "name": "conda-root-py"
  },
  "language_info": {
   "codemirror_mode": {
    "name": "ipython",
    "version": 3
   },
   "file_extension": ".py",
   "mimetype": "text/x-python",
   "name": "python",
   "nbconvert_exporter": "python",
   "pygments_lexer": "ipython3",
   "version": "3.5.2"
  }
 },
 "nbformat": 4,
 "nbformat_minor": 1
}
